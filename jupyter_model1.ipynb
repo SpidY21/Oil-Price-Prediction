{
 "cells": [
  {
   "cell_type": "code",
   "execution_count": 1,
   "id": "2c885c63",
   "metadata": {},
   "outputs": [
    {
     "name": "stdout",
     "output_type": "stream",
     "text": [
      "WARNING:tensorflow:From C:\\Users\\Yash\\anaconda1\\Lib\\site-packages\\keras\\src\\losses.py:2976: The name tf.losses.sparse_softmax_cross_entropy is deprecated. Please use tf.compat.v1.losses.sparse_softmax_cross_entropy instead.\n",
      "\n"
     ]
    }
   ],
   "source": [
    "from keras.models import load_model\n",
    "from sklearn.preprocessing import MinMaxScaler\n",
    "import pandas as pd\n",
    "import numpy as np"
   ]
  },
  {
   "cell_type": "code",
   "execution_count": 2,
   "id": "559d2169",
   "metadata": {},
   "outputs": [],
   "source": [
    "df = pd.read_excel(r\"C:\\Users\\Yash\\Desktop\\ExcelR Project\\Codes\\RWTCm.xls\")\n",
    "df.index.freq = 'MS'\n",
    "df.set_index('Date',inplace=True)\n",
    "train = df.iloc[:444]\n",
    "test = df.iloc[444:]\n",
    "scaler = MinMaxScaler()\n",
    "scaler.fit(train)\n",
    "scaled_test = scaler.transform(test)\n",
    "# scaled_train = scaler.transform(train)\n",
    "n_input = 12\n",
    "n_features = 1\n",
    "# first_eval_batch = scaled_train[-12:]\n"
   ]
  },
  {
   "cell_type": "code",
   "execution_count": 3,
   "id": "0afc44d0",
   "metadata": {},
   "outputs": [
    {
     "name": "stdout",
     "output_type": "stream",
     "text": [
      "WARNING:tensorflow:From C:\\Users\\Yash\\anaconda1\\Lib\\site-packages\\keras\\src\\backend.py:1398: The name tf.executing_eagerly_outside_functions is deprecated. Please use tf.compat.v1.executing_eagerly_outside_functions instead.\n",
      "\n"
     ]
    }
   ],
   "source": [
    "#model = load_model(\"C:/Users/Yash/Desktop/ExcelR Project/App/RMSE_5_model_h5.h5\")\n",
    "model = load_model(\"C:/Users/Yash/Desktop/ExcelR Project/App/first_model.h5\")"
   ]
  },
  {
   "cell_type": "code",
   "execution_count": 4,
   "id": "fded4acb",
   "metadata": {},
   "outputs": [],
   "source": [
    "def To_Be_Length(month,year):\n",
    "    count = month + (year - 2024)\n",
    "    return count"
   ]
  },
  {
   "cell_type": "code",
   "execution_count": 5,
   "id": "fa96ac25",
   "metadata": {},
   "outputs": [
    {
     "name": "stdout",
     "output_type": "stream",
     "text": [
      "9\n",
      "2024\n",
      "1/1 [==============================] - 0s 320ms/step\n",
      "1/1 [==============================] - 0s 20ms/step\n",
      "1/1 [==============================] - 0s 18ms/step\n",
      "1/1 [==============================] - 0s 24ms/step\n",
      "1/1 [==============================] - 0s 29ms/step\n",
      "1/1 [==============================] - 0s 24ms/step\n",
      "1/1 [==============================] - 0s 24ms/step\n",
      "1/1 [==============================] - 0s 20ms/step\n",
      "1/1 [==============================] - 0s 19ms/step\n",
      "1/1 [==============================] - 0s 19ms/step\n",
      "1/1 [==============================] - 0s 30ms/step\n",
      "1/1 [==============================] - 0s 26ms/step\n",
      "1/1 [==============================] - 0s 24ms/step\n",
      "1/1 [==============================] - 0s 26ms/step\n",
      "1/1 [==============================] - 0s 21ms/step\n",
      "1/1 [==============================] - 0s 24ms/step\n",
      "1/1 [==============================] - 0s 16ms/step\n",
      "1/1 [==============================] - 0s 20ms/step\n",
      "1/1 [==============================] - 0s 29ms/step\n",
      "1/1 [==============================] - 0s 20ms/step\n",
      "1/1 [==============================] - 0s 20ms/step\n"
     ]
    },
    {
     "data": {
      "text/plain": [
       "array([99.10183697])"
      ]
     },
     "execution_count": 5,
     "metadata": {},
     "output_type": "execute_result"
    }
   ],
   "source": [
    "month = int(input())\n",
    "year = int(input())\n",
    "test_predictions = []\n",
    "first_eval_batch = scaled_test[-n_input:]\n",
    "current_batch = first_eval_batch.reshape((1,n_input,n_features))\n",
    "for i in range(len(test)+To_Be_Length(month,year)):\n",
    "    current_pred = model.predict(current_batch)[0]\n",
    "    test_predictions.append(current_pred)\n",
    "    current_batch = np.append(current_batch[:,1:,:],[[current_pred]],axis=1)\n",
    "# print(test_predictions[-1])\n",
    "# print(test_predictions)\n",
    "# print(len(test_predictions))\n",
    "true_predictions = scaler.inverse_transform(test_predictions)\n",
    "true_predictions[-1]"
   ]
  },
  {
   "cell_type": "code",
   "execution_count": 6,
   "id": "36c2d237",
   "metadata": {},
   "outputs": [
    {
     "data": {
      "text/plain": [
       "array([99.10183697])"
      ]
     },
     "execution_count": 6,
     "metadata": {},
     "output_type": "execute_result"
    }
   ],
   "source": [
    "true_predictions[-1]"
   ]
  },
  {
   "cell_type": "code",
   "execution_count": null,
   "id": "7bced3c9",
   "metadata": {},
   "outputs": [],
   "source": []
  },
  {
   "cell_type": "code",
   "execution_count": null,
   "id": "12b733c0",
   "metadata": {},
   "outputs": [],
   "source": []
  }
 ],
 "metadata": {
  "kernelspec": {
   "display_name": "Python 3 (ipykernel)",
   "language": "python",
   "name": "python3"
  },
  "language_info": {
   "codemirror_mode": {
    "name": "ipython",
    "version": 3
   },
   "file_extension": ".py",
   "mimetype": "text/x-python",
   "name": "python",
   "nbconvert_exporter": "python",
   "pygments_lexer": "ipython3",
   "version": "3.11.5"
  }
 },
 "nbformat": 4,
 "nbformat_minor": 5
}
